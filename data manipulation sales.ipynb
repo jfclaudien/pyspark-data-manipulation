{
 "cells": [
  {
   "cell_type": "code",
   "execution_count": null,
   "id": "c40495f4",
   "metadata": {},
   "outputs": [],
   "source": [
    "import pyspark\n",
    "from pyspark.sql import SparkSession\n",
    "spark = SparkSession.builder.appName('Sales').getOrCreate()\n",
    "spark"
   ]
  },
  {
   "cell_type": "code",
   "execution_count": null,
   "id": "ad2a4de8",
   "metadata": {},
   "outputs": [],
   "source": [
    "from pyspark.sql.types import *\n",
    "# (DateType, StringType, DoubleType, \n",
    "#                                IntegerType, StructField, StructType) \n",
    "\n",
    "from pyspark.sql.functions import *"
   ]
  },
  {
   "cell_type": "code",
   "execution_count": null,
   "id": "a332a141",
   "metadata": {},
   "outputs": [],
   "source": [
    "schema_sal = [\n",
    "    StructField('Invoice ID', StringType(), True),\n",
    "    StructField('Branch', StringType(), True),\n",
    "    StructField('City', StringType(), True),\n",
    "    StructField('Customer type', StringType(), True),\n",
    "    StructField('Gender', StringType(), True),\n",
    "    StructField('Product line', StringType(), True),\n",
    "    StructField('Unit price', DoubleType(), True),\n",
    "    StructField('Quantity', IntegerType(), True),\n",
    "    StructField('Tax 5%', DoubleType(), True),\n",
    "    StructField('Total', DoubleType(), True),\n",
    "    StructField('Date', DateType(), True),\n",
    "    StructField('Time', StringType(), True),\n",
    "    StructField('Payment', StringType(), True),\n",
    "    StructField('cogs', DoubleType(), True),\n",
    "    StructField('gross margin percentage', DoubleType(), True),\n",
    "    StructField('gross income', DoubleType(), True),\n",
    "    StructField('Rating', DoubleType(), True)]\n",
    "             "
   ]
  },
  {
   "cell_type": "code",
   "execution_count": null,
   "id": "e07d37d1",
   "metadata": {},
   "outputs": [],
   "source": [
    "final_schema = StructType(fields= schema_sal)"
   ]
  },
  {
   "cell_type": "code",
   "execution_count": null,
   "id": "25f83fd7",
   "metadata": {},
   "outputs": [],
   "source": [
    "# sales = (spark.read\n",
    "#           .format('csv')\n",
    "#           .option('inferSchema', 'true')\n",
    "#           .option('header', 'true')\n",
    "#           .schema(final_schema)\n",
    "#           .load('./data/supermarket_sales.csv'))\n",
    "sales = spark.read.csv('./data/supermarket_sales.csv', header= True, inferSchema= True)"
   ]
  },
  {
   "cell_type": "code",
   "execution_count": null,
   "id": "572f50dc",
   "metadata": {},
   "outputs": [],
   "source": [
    "sales.printSchema()"
   ]
  },
  {
   "cell_type": "code",
   "execution_count": null,
   "id": "0d54cf5f",
   "metadata": {},
   "outputs": [],
   "source": [
    "sales.limit(5).toPandas()"
   ]
  },
  {
   "cell_type": "code",
   "execution_count": null,
   "id": "9730b0a1",
   "metadata": {},
   "outputs": [],
   "source": [
    "df = sales.select(split(col('Date'), \"/\").alias('Date'))"
   ]
  },
  {
   "cell_type": "code",
   "execution_count": null,
   "id": "a75993b3",
   "metadata": {},
   "outputs": [],
   "source": [
    "# df = df.withColumn('Date', df.Date.cast(DateType()))"
   ]
  },
  {
   "cell_type": "code",
   "execution_count": null,
   "id": "704bef18",
   "metadata": {},
   "outputs": [],
   "source": [
    "df.dtypes"
   ]
  },
  {
   "cell_type": "code",
   "execution_count": null,
   "id": "7ae3f684",
   "metadata": {},
   "outputs": [],
   "source": [
    "df_1 = df.withColumn(\"el_1\",df[\"Date\"][0])\n",
    "df_1 = df_1.select(df_1['el_1'])\n",
    "df_1 = df_1.withColumnRenamed('el_1','Month')\n",
    "df_1.limit(5).toPandas()"
   ]
  },
  {
   "cell_type": "code",
   "execution_count": null,
   "id": "2ae884cb",
   "metadata": {},
   "outputs": [],
   "source": [
    "df_2 = df.withColumn(\"el_2\",df[\"Date\"][1])\n",
    "df_2 = df_2.select(df_2['el_2'])\n",
    "df_2 = df_2.withColumnRenamed('el_2','Day')\n",
    "df_2.limit(5).toPandas()"
   ]
  },
  {
   "cell_type": "code",
   "execution_count": null,
   "id": "69dd6fc7",
   "metadata": {},
   "outputs": [],
   "source": [
    "df_3 = df.withColumn(\"el_3\",df[\"Date\"][2])\n",
    "df_3 = df_3.select(df_3['el_3'])\n",
    "df_3 = df_3.withColumnRenamed('el_3','Year')\n",
    "df_3.limit(5).toPandas()"
   ]
  },
  {
   "cell_type": "code",
   "execution_count": null,
   "id": "83fe472c",
   "metadata": {},
   "outputs": [],
   "source": []
  },
  {
   "cell_type": "code",
   "execution_count": null,
   "id": "c1a657a1",
   "metadata": {},
   "outputs": [],
   "source": []
  },
  {
   "cell_type": "code",
   "execution_count": null,
   "id": "8c5b4824",
   "metadata": {},
   "outputs": [],
   "source": []
  },
  {
   "cell_type": "code",
   "execution_count": null,
   "id": "7f30cdfb",
   "metadata": {},
   "outputs": [],
   "source": []
  }
 ],
 "metadata": {
  "kernelspec": {
   "display_name": "Python 3",
   "language": "python",
   "name": "python3"
  },
  "language_info": {
   "codemirror_mode": {
    "name": "ipython",
    "version": 3
   },
   "file_extension": ".py",
   "mimetype": "text/x-python",
   "name": "python",
   "nbconvert_exporter": "python",
   "pygments_lexer": "ipython3",
   "version": "3.7.10"
  }
 },
 "nbformat": 4,
 "nbformat_minor": 5
}
